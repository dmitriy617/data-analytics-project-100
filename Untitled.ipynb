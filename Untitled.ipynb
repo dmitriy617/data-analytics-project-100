{
 "cells": [
  {
   "cell_type": "code",
   "execution_count": 3,
   "id": "5be89dac-5a33-4047-9310-e7641384ab2a",
   "metadata": {},
   "outputs": [],
   "source": [
    "import pandas as pd\n",
    "import requests\n",
    "import os"
   ]
  },
  {
   "cell_type": "code",
   "execution_count": 5,
   "id": "c7613c6f-cb69-47ee-8990-d9a6671d79ec",
   "metadata": {},
   "outputs": [
    {
     "name": "stdout",
     "output_type": "stream",
     "text": [
      "                             datetime platform  \\\n",
      "0       Wed, 01 Mar 2023 10:36:22 GMT      web   \n",
      "1       Wed, 01 Mar 2023 06:25:00 GMT      web   \n",
      "2       Wed, 01 Mar 2023 10:26:13 GMT      web   \n",
      "3       Wed, 01 Mar 2023 12:33:06 GMT      web   \n",
      "4       Wed, 01 Mar 2023 01:38:35 GMT      web   \n",
      "...                               ...      ...   \n",
      "263454  Tue, 29 Aug 2023 10:43:29 GMT      web   \n",
      "263455  Tue, 29 Aug 2023 19:29:16 GMT      web   \n",
      "263456  Tue, 29 Aug 2023 12:51:11 GMT      web   \n",
      "263457  Tue, 29 Aug 2023 21:45:08 GMT      web   \n",
      "263458  Wed, 30 Aug 2023 19:19:04 GMT      web   \n",
      "\n",
      "                                               user_agent  \\\n",
      "0       Mozilla/5.0 (Windows NT 10.0; Win64; x64) Appl...   \n",
      "1       Mozilla/5.0 (Windows NT 10.0; WOW64; Trident/7...   \n",
      "2       Mozilla/5.0 (Macintosh; Intel Mac OS X 10_11_2...   \n",
      "3       Mozilla/5.0 (Macintosh; Intel Mac OS X 10_15_7...   \n",
      "4       Mozilla/5.0 (Windows NT 10.0; Win64; x64) Appl...   \n",
      "...                                                   ...   \n",
      "263454  Mozilla/5.0 (Macintosh; Intel Mac OS X 10_15_7...   \n",
      "263455  Mozilla/5.0 (X11; Ubuntu; Linux x86_64; rv:109...   \n",
      "263456  Mozilla/5.0 (Windows NT 10.0; Win64; x64) Appl...   \n",
      "263457  Mozilla/5.0 (Windows NT 10.0; Win64; x64) Appl...   \n",
      "263458  Mozilla/5.0 (X11; Ubuntu; Linux x86_64; rv:109...   \n",
      "\n",
      "                                    visit_id  \n",
      "0       1de9ea66-70d3-4a1f-8735-df5ef7697fb9  \n",
      "1       f149f542-e935-4870-9734-6b4501eaf614  \n",
      "2       08f0ebd4-950c-4dd9-8e97-b5bdf073eed1  \n",
      "3       19322fed-157c-49c6-b16e-2d5cabeb9592  \n",
      "4       04762a22-3c9f-40c9-9ac9-6628c4381836  \n",
      "...                                      ...  \n",
      "263454  6d2e2f5b-970b-4dfe-8f57-25711a5b2a5d  \n",
      "263455  1d91535e-d984-4f76-bbaa-c14c0fd4f2e2  \n",
      "263456  f2496721-7126-430d-976e-777a6cdccb4f  \n",
      "263457  f2496721-7126-430d-976e-777a6cdccb4f  \n",
      "263458  73047125-de44-4d65-8229-7218acff4ddc  \n",
      "\n",
      "[263459 rows x 4 columns]\n"
     ]
    }
   ],
   "source": [
    "url = 'https://data-charts-api.hexlet.app/visits?begin=2023-03-01&end=2023-09-01'\n",
    "\n",
    "resp = requests.get(url)\n",
    "data = resp.json()\n",
    "\n",
    "df_visits = pd.DataFrame(resp.json())\n",
    "print(df_visits)"
   ]
  },
  {
   "cell_type": "code",
   "execution_count": null,
   "id": "2075ee08-62ae-4ae3-99a9-ef0d5391cee3",
   "metadata": {},
   "outputs": [],
   "source": []
  }
 ],
 "metadata": {
  "kernelspec": {
   "display_name": "Python 3 (ipykernel)",
   "language": "python",
   "name": "python3"
  },
  "language_info": {
   "codemirror_mode": {
    "name": "ipython",
    "version": 3
   },
   "file_extension": ".py",
   "mimetype": "text/x-python",
   "name": "python",
   "nbconvert_exporter": "python",
   "pygments_lexer": "ipython3",
   "version": "3.11.7"
  }
 },
 "nbformat": 4,
 "nbformat_minor": 5
}
